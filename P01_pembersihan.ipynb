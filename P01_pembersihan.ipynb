{
 "cells": [
  {
   "cell_type": "markdown",
   "metadata": {},
   "source": [
    "# Proyek Akhir Matematika Diskrit\n",
    "### Menentukan Jadwal Kuliah mahasiswa UPI Cibiru angkatan 2024 berdasarkan Dosen\n",
    "\n",
    "nama file : \"P01_pembersihan.ipynb\"\n",
    "- Dalam file kode ini dipaparkan alur pengolahan data excel dari masih mentah menjadi siap digunakan\n",
    "- Dalam kode ini juga dibuat matriks ketetanggaan yang akan digunakan pada proses pewarnaan graf"
   ]
  },
  {
   "cell_type": "code",
   "execution_count": 16,
   "metadata": {},
   "outputs": [],
   "source": [
    "# Library utama yang akan digunakan adalah pandas, untuk pengolahan dataframe\n",
    "import pandas as pd"
   ]
  },
  {
   "cell_type": "markdown",
   "metadata": {},
   "source": [
    "---\n",
    "#### Pra-Proses\n",
    "- Data awal beranama \"01_Ploting Dosen 2024-2025-1 angk 2024.xlsx\"\n",
    "- Data diubah dulu secara manual yaitu dengan menyamakan:\n",
    "    - Nama dosen\n",
    "    - Gelar dosen\n",
    "    - Tanda baca\n",
    "- Data tersebut di save dengan nama \"02_data.xlsx\""
   ]
  },
  {
   "cell_type": "code",
   "execution_count": 17,
   "metadata": {},
   "outputs": [
    {
     "name": "stdout",
     "output_type": "stream",
     "text": [
      "                                              Dosen  \\\n",
      "0    Devi Aprianti Rimadhani Agustini, S.Si., M.Si.   \n",
      "1    Devi Aprianti Rimadhani Agustini, S.Si., M.Si.   \n",
      "2    Devi Aprianti Rimadhani Agustini, S.Si., M.Si.   \n",
      "3                       Dian Anggraini, S.ST., M.T.   \n",
      "4                       Dian Anggraini, S.ST., M.T.   \n",
      "..                                              ...   \n",
      "125                 Yayang Furi Purnamasari, M.Pd.    \n",
      "126                 Yayang Furi Purnamasari, M.Pd.    \n",
      "127                    Yulia Retnowati, S.Pd., M.T.   \n",
      "128                    Yulia Retnowati, S.Pd., M.T.   \n",
      "129                    Yulia Retnowati, S.Pd., M.T.   \n",
      "\n",
      "                                           Mata Kuliah   Prodi Kelas  \n",
      "0                           TR102 - Matematika Diskrit  TEKKOM    1A  \n",
      "1                           TR102 - Matematika Diskrit  TEKKOM    1B  \n",
      "2                           TR102 - Matematika Diskrit  TEKKOM    1C  \n",
      "3           RL116 - Pengantar Rekayasa Perangkat Lunak     RPL    1C  \n",
      "4           RL116 - Pengantar Rekayasa Perangkat Lunak     RPL    1B  \n",
      "..                                                 ...     ...   ...  \n",
      "125                 KU105 - Pendidikan Kewarganegaraan  TEKKOM    1B  \n",
      "126                 KU105 - Pendidikan Kewarganegaraan  TEKKOM    1C  \n",
      "127  RL115 - Literasi Teknologi Informasi dan Komun...     RPL    1C  \n",
      "128  RL115 - Literasi Teknologi Informasi dan Komun...     RPL    1B  \n",
      "129  RL115 - Literasi Teknologi Informasi dan Komun...     RPL    1A  \n",
      "\n",
      "[130 rows x 4 columns]\n"
     ]
    }
   ],
   "source": [
    "# Membaca file awal setelah direvisi manual\n",
    "data = pd.read_excel('02_data.xlsx')\n",
    "print(data)"
   ]
  },
  {
   "cell_type": "markdown",
   "metadata": {},
   "source": [
    "---\n",
    "#### Mencari data yang tidak unik\n",
    "- Hal ini dilakukan sebagai bentuk batasan yang diterapkan\n",
    "- Apabila satu dosen mengajar mahasiswa yang sama (prodi & kelas) di 2 atau lebih mata kuliah yang berbeda, maka dosen tersebut akan dianggap sebagai 2 atau lebih individu yang berbeda sesuai dengan jumlah mata kuliah yang diajarkan"
   ]
  },
  {
   "cell_type": "code",
   "execution_count": 18,
   "metadata": {},
   "outputs": [
    {
     "name": "stdout",
     "output_type": "stream",
     "text": [
      "                              Dosen                          Mata Kuliah  \\\n",
      "7        Dian Rinjani, S.Pd., M.Ds.                      PM200 - Nirmana   \n",
      "9        Dian Rinjani, S.Pd., M.Ds.                      PM200 - Nirmana   \n",
      "93  Ririn Despriliani, S.Pd., M.Si.  UD110 - Psikologi Perkembangan Anak   \n",
      "95  Ririn Despriliani, S.Pd., M.Si.  UD110 - Psikologi Perkembangan Anak   \n",
      "97  Ririn Despriliani, S.Pd., M.Si.  UD110 - Psikologi Perkembangan Anak   \n",
      "\n",
      "         Prodi Kelas  Keunikan  \n",
      "7   Multimedia    1B         2  \n",
      "9   Multimedia    1A         2  \n",
      "93      PGPAUD    1A         2  \n",
      "95      PGPAUD    1B         2  \n",
      "97      PGPAUD    1C         2  \n"
     ]
    }
   ],
   "source": [
    "cekKeunikan = data.groupby(['Dosen', 'Prodi', 'Kelas']).cumcount() + 1\n",
    "\n",
    "# Membuat kolom baru untuk keunikan\n",
    "data['Keunikan'] = cekKeunikan\n",
    "\n",
    "# Data yang tidak unik ialah data yang memiliki keunikan > 1 \n",
    "print(data[data['Keunikan'] > 1])"
   ]
  },
  {
   "cell_type": "markdown",
   "metadata": {},
   "source": [
    "---\n",
    "#### Perbaikan Manual\n",
    "- Memberikan kode unik untuk dosen-dosen yang memiliki keunikan > 1\n",
    "    - Dian Rijani\n",
    "    - Ririn Despriliani\n",
    "- Menambahkan mata kuliah Pendidikan Agama Katolik\n",
    "- Data baru disimpan dengan nama \"03_data - Copy.xlsx\""
   ]
  },
  {
   "cell_type": "markdown",
   "metadata": {},
   "source": [
    "---\n",
    "#### Menerapkan kode unik untuk setiap dosen\n",
    "- Kode unik digunakan agar pembuatan matriks ketetangaan lebih mudah untuk dibaca\n",
    "- Setiap dosen akan mendapatkan kode unik berupa \"D + *nomor urutan*\"\n",
    "- Proses ini merupakan proses terakhir pembersihan data\n",
    "- Data disimpan dengan nama \"04_data_clean.xlsx\""
   ]
  },
  {
   "cell_type": "code",
   "execution_count": 19,
   "metadata": {},
   "outputs": [],
   "source": [
    "# membaca file baru\n",
    "dataBaru = pd.read_excel('03_data - Copy.xlsx')"
   ]
  },
  {
   "cell_type": "code",
   "execution_count": 20,
   "metadata": {},
   "outputs": [
    {
     "name": "stdout",
     "output_type": "stream",
     "text": [
      "Devi Aprianti Rimadhani Agustini, S.Si., M.Si.\n",
      "Dian Anggraini, S.ST., M.T.\n",
      "(I) Dian Rinjani, S.Pd., M.Ds.\n",
      "(N) Dian Rinjani, S.Pd., M.Ds.\n",
      "Dr. Agus Mulyana, M.Pd.\n",
      "Dr. Ai Sutini, M.Pd.\n",
      "Dr. Arif Hidayat, S.Pd.I., M.Pd.I.\n",
      "Dr. Asep Rudi Nurjaman, M.Pd.I.\n",
      "Dr. Cucu Sutianah, M.Pd.\n",
      "Dr. Dede Trie Kurniawan, S.Si., M.Pd.\n",
      "Dr. Dinie Anggraini Dewi, M.Pd.\n",
      "Dr. Eng. Munawir, S.Kom., M.T.\n",
      "Dr. Jenuri, S.Pd., M.Ag.\n",
      "Dr. Kurniawati, M.Pd.\n",
      "Dr. Muh. Husen Arifin, S.E., M.Pd.\n",
      "Dr. Rendi Restiana Sukardi, M.Pd.\n",
      "Dr. Tita Mulyati, M.Pd.\n",
      "Dr. Yeni Yuniarti, M.Pd.\n",
      "Dr. Yunus Abidin, M.Pd.\n",
      "Dr. Yusuf Tri Herlambang, M.Pd.\n",
      "Dra. Tin Rustini, M.Pd.\n",
      "Fully Rakhmayanti, M.Pd.\n",
      "Indira Syawanodya, M.Kom.\n",
      "Moh. Helmi Ismail, M.Pd.\n",
      "Nurhidayatulloh, S.Pd., M.T.\n",
      "Prof. Dr. Leli Halimah, M.Pd.\n",
      "Raditya Muhammad, M.T.\n",
      "(B) Ririn Despriliani, S.Pd., M.Si.\n",
      "(A) Ririn Despriliani, S.Pd., M.Si.\n",
      "Suka Prayanta Pendia, S.Pd., M.P.Fis.\n",
      "Triana Lestari, S.Psi., M.Pd.\n",
      "Winti Ananthia, S.Pd., M.Ed.\n",
      "Yayang Furi Purnamasari, M.Pd. \n",
      "Yulia Retnowati, S.Pd., M.T.\n",
      "Prof. Dr. Florentina Maria Titin Supriyanti, M.Si.\n",
      "----------------------------------------------\n",
      "Banyaknya dosen: 35\n"
     ]
    }
   ],
   "source": [
    "# Mmmbaca setiap nama dosen 1x\n",
    "dosenUnik = dataBaru[\"Dosen\"].unique()\n",
    "\n",
    "for dosen in dosenUnik:\n",
    "    print(dosen)\n",
    "    \n",
    "banyakDosen = len(dosenUnik) # menghitung jumlah dosen\n",
    "print(\"----------------------------------------------\")\n",
    "print(\"Banyaknya dosen: \" + str(banyakDosen))\n"
   ]
  },
  {
   "cell_type": "code",
   "execution_count": 21,
   "metadata": {},
   "outputs": [
    {
     "name": "stdout",
     "output_type": "stream",
     "text": [
      "['D1', 'D2', 'D3', 'D4', 'D5', 'D6', 'D7', 'D8', 'D9', 'D10', 'D11', 'D12', 'D13', 'D14', 'D15', 'D16', 'D17', 'D18', 'D19', 'D20', 'D21', 'D22', 'D23', 'D24', 'D25', 'D26', 'D27', 'D28', 'D29', 'D30', 'D31', 'D32', 'D33', 'D34', 'D35']\n"
     ]
    }
   ],
   "source": [
    "# membuat kode unik dengan format \"D + (nomor urutan)\"\n",
    "kodeUnik = []\n",
    "\n",
    "for i in range(banyakDosen):\n",
    "    kode = 'D' + str(i+1)\n",
    "    kodeUnik.append(kode)\n",
    "\n",
    "print(kodeUnik)"
   ]
  },
  {
   "cell_type": "code",
   "execution_count": 22,
   "metadata": {},
   "outputs": [
    {
     "name": "stdout",
     "output_type": "stream",
     "text": [
      "{'Devi Aprianti Rimadhani Agustini, S.Si., M.Si.': 'D1', 'Dian Anggraini, S.ST., M.T.': 'D2', '(I) Dian Rinjani, S.Pd., M.Ds.': 'D3', '(N) Dian Rinjani, S.Pd., M.Ds.': 'D4', 'Dr. Agus Mulyana, M.Pd.': 'D5', 'Dr. Ai Sutini, M.Pd.': 'D6', 'Dr. Arif Hidayat, S.Pd.I., M.Pd.I.': 'D7', 'Dr. Asep Rudi Nurjaman, M.Pd.I.': 'D8', 'Dr. Cucu Sutianah, M.Pd.': 'D9', 'Dr. Dede Trie Kurniawan, S.Si., M.Pd.': 'D10', 'Dr. Dinie Anggraini Dewi, M.Pd.': 'D11', 'Dr. Eng. Munawir, S.Kom., M.T.': 'D12', 'Dr. Jenuri, S.Pd., M.Ag.': 'D13', 'Dr. Kurniawati, M.Pd.': 'D14', 'Dr. Muh. Husen Arifin, S.E., M.Pd.': 'D15', 'Dr. Rendi Restiana Sukardi, M.Pd.': 'D16', 'Dr. Tita Mulyati, M.Pd.': 'D17', 'Dr. Yeni Yuniarti, M.Pd.': 'D18', 'Dr. Yunus Abidin, M.Pd.': 'D19', 'Dr. Yusuf Tri Herlambang, M.Pd.': 'D20', 'Dra. Tin Rustini, M.Pd.': 'D21', 'Fully Rakhmayanti, M.Pd.': 'D22', 'Indira Syawanodya, M.Kom.': 'D23', 'Moh. Helmi Ismail, M.Pd.': 'D24', 'Nurhidayatulloh, S.Pd., M.T.': 'D25', 'Prof. Dr. Leli Halimah, M.Pd.': 'D26', 'Raditya Muhammad, M.T.': 'D27', '(B) Ririn Despriliani, S.Pd., M.Si.': 'D28', '(A) Ririn Despriliani, S.Pd., M.Si.': 'D29', 'Suka Prayanta Pendia, S.Pd., M.P.Fis.': 'D30', 'Triana Lestari, S.Psi., M.Pd.': 'D31', 'Winti Ananthia, S.Pd., M.Ed.': 'D32', 'Yayang Furi Purnamasari, M.Pd. ': 'D33', 'Yulia Retnowati, S.Pd., M.T.': 'D34', 'Prof. Dr. Florentina Maria Titin Supriyanti, M.Si.': 'D35'}\n"
     ]
    }
   ],
   "source": [
    "# Memasangkan kode dosen sesuai dengan urutan dosen\n",
    "kodeDosen = {} # Dibuat dalam bentuk dict agar mudah untuk digunakan pada dataframe\n",
    "\n",
    "for i in range(banyakDosen):\n",
    "    nama = dosenUnik[i]\n",
    "    kode = kodeUnik[i]\n",
    "\n",
    "    kodeDosen[nama] = kode\n",
    "\n",
    "print(kodeDosen)\n"
   ]
  },
  {
   "cell_type": "code",
   "execution_count": 23,
   "metadata": {},
   "outputs": [
    {
     "name": "stdout",
     "output_type": "stream",
     "text": [
      "                                                 Dosen  \\\n",
      "0       Devi Aprianti Rimadhani Agustini, S.Si., M.Si.   \n",
      "1       Devi Aprianti Rimadhani Agustini, S.Si., M.Si.   \n",
      "2       Devi Aprianti Rimadhani Agustini, S.Si., M.Si.   \n",
      "3                          Dian Anggraini, S.ST., M.T.   \n",
      "4                          Dian Anggraini, S.ST., M.T.   \n",
      "..                                                 ...   \n",
      "127                       Yulia Retnowati, S.Pd., M.T.   \n",
      "128                       Yulia Retnowati, S.Pd., M.T.   \n",
      "129                       Yulia Retnowati, S.Pd., M.T.   \n",
      "130  Prof. Dr. Florentina Maria Titin Supriyanti, M...   \n",
      "131  Prof. Dr. Florentina Maria Titin Supriyanti, M...   \n",
      "\n",
      "                                           Mata Kuliah       Prodi Kelas Kode  \n",
      "0                           TR102 - Matematika Diskrit      TEKKOM    1A   D1  \n",
      "1                           TR102 - Matematika Diskrit      TEKKOM    1B   D1  \n",
      "2                           TR102 - Matematika Diskrit      TEKKOM    1C   D1  \n",
      "3           RL116 - Pengantar Rekayasa Perangkat Lunak         RPL    1C   D2  \n",
      "4           RL116 - Pengantar Rekayasa Perangkat Lunak         RPL    1B   D2  \n",
      "..                                                 ...         ...   ...  ...  \n",
      "127  RL115 - Literasi Teknologi Informasi dan Komun...         RPL    1C  D34  \n",
      "128  RL115 - Literasi Teknologi Informasi dan Komun...         RPL    1B  D34  \n",
      "129  RL115 - Literasi Teknologi Informasi dan Komun...         RPL    1A  D34  \n",
      "130                   KU102 - Pendidikan Agama Katolik      TEKKOM    1A  D35  \n",
      "131                   KU102 - Pendidikan Agama Katolik  Multimedia    1A  D35  \n",
      "\n",
      "[132 rows x 5 columns]\n"
     ]
    }
   ],
   "source": [
    "# Membuat kolom baru pada dataframe bernama \"Kode\"\n",
    "# Lalu menerapkan nilainya sesuai dengan pasangan dosen & kodenya\n",
    "dataBaru['Kode'] = dataBaru['Dosen'].map(kodeDosen)\n",
    "\n",
    "print(dataBaru)"
   ]
  },
  {
   "cell_type": "code",
   "execution_count": 24,
   "metadata": {},
   "outputs": [],
   "source": [
    "# Save file ke bentuk excel\n",
    "dataBaru.to_excel(r'C:\\Avin Folder EX\\S1\\Matematika Diskrit\\Proyek Akhir\\Program\\04_data_clean.xlsx', index=False)"
   ]
  },
  {
   "cell_type": "markdown",
   "metadata": {},
   "source": [
    "---"
   ]
  },
  {
   "cell_type": "markdown",
   "metadata": {},
   "source": [
    "# Pembuatan Matriks ketetanggaan\n",
    "- Menggunakan kode unik dosen yang sudah dibuat\n",
    "- Keterhubungan dicari berdasarkan mahasiswa yang diajar (Prodi + kelas)\n",
    "- Data disimpan dengan nama \"05_matriks.xlsx\""
   ]
  },
  {
   "cell_type": "code",
   "execution_count": 25,
   "metadata": {},
   "outputs": [
    {
     "name": "stdout",
     "output_type": "stream",
     "text": [
      "     D1  D2  D3  D4  D5  D6  D7  D8  D9  D10  ...  D26  D27  D28  D29  D30  \\\n",
      "D1    0   0   0   0   0   0   0   0   0    0  ...    0    0    0    0    0   \n",
      "D2    0   0   0   0   0   0   0   0   0    0  ...    0    0    0    0    0   \n",
      "D3    0   0   0   0   0   0   0   0   0    0  ...    0    0    0    0    0   \n",
      "D4    0   0   0   0   0   0   0   0   0    0  ...    0    0    0    0    0   \n",
      "D5    0   0   0   0   0   0   0   0   0    0  ...    0    0    0    0    0   \n",
      "D6    0   0   0   0   0   0   0   0   0    0  ...    0    0    0    0    0   \n",
      "D7    0   0   0   0   0   0   0   0   0    0  ...    0    0    0    0    0   \n",
      "D8    0   0   0   0   0   0   0   0   0    0  ...    0    0    0    0    0   \n",
      "D9    0   0   0   0   0   0   0   0   0    0  ...    0    0    0    0    0   \n",
      "D10   0   0   0   0   0   0   0   0   0    0  ...    0    0    0    0    0   \n",
      "D11   0   0   0   0   0   0   0   0   0    0  ...    0    0    0    0    0   \n",
      "D12   0   0   0   0   0   0   0   0   0    0  ...    0    0    0    0    0   \n",
      "D13   0   0   0   0   0   0   0   0   0    0  ...    0    0    0    0    0   \n",
      "D14   0   0   0   0   0   0   0   0   0    0  ...    0    0    0    0    0   \n",
      "D15   0   0   0   0   0   0   0   0   0    0  ...    0    0    0    0    0   \n",
      "D16   0   0   0   0   0   0   0   0   0    0  ...    0    0    0    0    0   \n",
      "D17   0   0   0   0   0   0   0   0   0    0  ...    0    0    0    0    0   \n",
      "D18   0   0   0   0   0   0   0   0   0    0  ...    0    0    0    0    0   \n",
      "D19   0   0   0   0   0   0   0   0   0    0  ...    0    0    0    0    0   \n",
      "D20   0   0   0   0   0   0   0   0   0    0  ...    0    0    0    0    0   \n",
      "D21   0   0   0   0   0   0   0   0   0    0  ...    0    0    0    0    0   \n",
      "D22   0   0   0   0   0   0   0   0   0    0  ...    0    0    0    0    0   \n",
      "D23   0   0   0   0   0   0   0   0   0    0  ...    0    0    0    0    0   \n",
      "D24   0   0   0   0   0   0   0   0   0    0  ...    0    0    0    0    0   \n",
      "D25   0   0   0   0   0   0   0   0   0    0  ...    0    0    0    0    0   \n",
      "D26   0   0   0   0   0   0   0   0   0    0  ...    0    0    0    0    0   \n",
      "D27   0   0   0   0   0   0   0   0   0    0  ...    0    0    0    0    0   \n",
      "D28   0   0   0   0   0   0   0   0   0    0  ...    0    0    0    0    0   \n",
      "D29   0   0   0   0   0   0   0   0   0    0  ...    0    0    0    0    0   \n",
      "D30   0   0   0   0   0   0   0   0   0    0  ...    0    0    0    0    0   \n",
      "D31   0   0   0   0   0   0   0   0   0    0  ...    0    0    0    0    0   \n",
      "D32   0   0   0   0   0   0   0   0   0    0  ...    0    0    0    0    0   \n",
      "D33   0   0   0   0   0   0   0   0   0    0  ...    0    0    0    0    0   \n",
      "D34   0   0   0   0   0   0   0   0   0    0  ...    0    0    0    0    0   \n",
      "D35   0   0   0   0   0   0   0   0   0    0  ...    0    0    0    0    0   \n",
      "\n",
      "     D31  D32  D33  D34  D35  \n",
      "D1     0    0    0    0    0  \n",
      "D2     0    0    0    0    0  \n",
      "D3     0    0    0    0    0  \n",
      "D4     0    0    0    0    0  \n",
      "D5     0    0    0    0    0  \n",
      "D6     0    0    0    0    0  \n",
      "D7     0    0    0    0    0  \n",
      "D8     0    0    0    0    0  \n",
      "D9     0    0    0    0    0  \n",
      "D10    0    0    0    0    0  \n",
      "D11    0    0    0    0    0  \n",
      "D12    0    0    0    0    0  \n",
      "D13    0    0    0    0    0  \n",
      "D14    0    0    0    0    0  \n",
      "D15    0    0    0    0    0  \n",
      "D16    0    0    0    0    0  \n",
      "D17    0    0    0    0    0  \n",
      "D18    0    0    0    0    0  \n",
      "D19    0    0    0    0    0  \n",
      "D20    0    0    0    0    0  \n",
      "D21    0    0    0    0    0  \n",
      "D22    0    0    0    0    0  \n",
      "D23    0    0    0    0    0  \n",
      "D24    0    0    0    0    0  \n",
      "D25    0    0    0    0    0  \n",
      "D26    0    0    0    0    0  \n",
      "D27    0    0    0    0    0  \n",
      "D28    0    0    0    0    0  \n",
      "D29    0    0    0    0    0  \n",
      "D30    0    0    0    0    0  \n",
      "D31    0    0    0    0    0  \n",
      "D32    0    0    0    0    0  \n",
      "D33    0    0    0    0    0  \n",
      "D34    0    0    0    0    0  \n",
      "D35    0    0    0    0    0  \n",
      "\n",
      "[35 rows x 35 columns]\n"
     ]
    }
   ],
   "source": [
    "# membuat dataframe matriks dengan ukuran sesuai kodeUnik x kodeUnik\n",
    "matriks_adj = pd.DataFrame(0, index=kodeUnik, columns=kodeUnik)\n",
    "\n",
    "print(matriks_adj)"
   ]
  },
  {
   "cell_type": "markdown",
   "metadata": {},
   "source": [
    "---\n",
    "#### Mencari pasangan data\n",
    "- Pasangan data adalah pasangan antara dosen dan mahasiswa yang diajar\n",
    "- Mahasiswa akan diwakilkan oleh kombinasi prodi + kelas\n",
    "- Format untuk setiap data sesuai dengan latihan graf yang pernah dikerjakan, yaitu,\n",
    "    - Kode dosen : [kumpulan mahasiswa yang diajar]\n",
    "- Kumpulan mahasiswa yang diajar pada kode ini juga disebut:\n",
    "    - Kumpulan kode (kumpulanKode)\n",
    "    - Kelas\n",
    "    - Kumpulan Kelas (kumpulanKelas)\n",
    "- Pasangan dibuat agar memudahkan proses pencarian hubungan"
   ]
  },
  {
   "cell_type": "code",
   "execution_count": 26,
   "metadata": {},
   "outputs": [],
   "source": [
    "pasangan = []\n",
    "\n",
    "for kode in kodeUnik: # Cek setiap kode unik dosen\n",
    "\n",
    "    # Mencari terlebih dahulu kumpulan kode mahasiswa yang memiliki dosen yang sama\n",
    "    # Kode mahasiswa = prodi + kelas\n",
    "    \n",
    "    kumpulanKode = []\n",
    "    for j in range(len(dataBaru)):\n",
    "        if kode is dataBaru.loc[j, 'Kode']: # Jika kode yang dicek saat ini sama dengan kode pada dataframe\n",
    "            # Maka, masukkan prodi + kelas ke kumpulanKode\n",
    "            mahasiswa = dataBaru.loc[j, 'Prodi'] + dataBaru.loc[j, 'Kelas']\n",
    "            kumpulanKode.append(mahasiswa) \n",
    "    \n",
    "    pasangan.append([kode, kumpulanKode]) # Pasangkan kode dengan kumpulanKode yang dicari\n"
   ]
  },
  {
   "cell_type": "code",
   "execution_count": 27,
   "metadata": {},
   "outputs": [
    {
     "name": "stdout",
     "output_type": "stream",
     "text": [
      "D1 : ['TEKKOM1A', 'TEKKOM1B', 'TEKKOM1C']\n",
      "D2 : ['RPL1C', 'RPL1B', 'RPL1A']\n",
      "D3 : ['Multimedia1B', 'Multimedia1A']\n",
      "D4 : ['Multimedia1B', 'Multimedia1A']\n",
      "D5 : ['Multimedia1B', 'Multimedia1A']\n",
      "D6 : ['PGPAUD1A', 'PGPAUD1B', 'PGPAUD1C']\n",
      "D7 : ['PGPAUD1A', 'PGPAUD1B', 'PGPAUD1C', 'TEKKOM1A', 'TEKKOM1B', 'TEKKOM1C']\n",
      "D8 : ['Multimedia1B', 'Multimedia1A']\n",
      "D9 : ['Multimedia1B', 'Multimedia1A']\n",
      "D10 : ['TEKKOM1A', 'TEKKOM1B', 'TEKKOM1C']\n",
      "D11 : ['Multimedia1B', 'Multimedia1A', 'PGSD1A', 'PGSD1B', 'PGSD1C', 'PGSD1D']\n",
      "D12 : ['TEKKOM1A', 'TEKKOM1B', 'TEKKOM1C']\n",
      "D13 : ['RPL1C', 'RPL1B', 'RPL1A']\n",
      "D14 : ['Multimedia1B', 'Multimedia1A', 'PGSD1B', 'PGSD1C', 'PGSD1D', 'PGSD1E', 'PGSD1F']\n",
      "D15 : ['PGSD1E', 'PGSD1F']\n",
      "D16 : ['PGSD1A', 'PGSD1B', 'PGSD1C', 'PGSD1D', 'PGSD1E', 'PGSD1F']\n",
      "D17 : ['PGSD1A', 'PGSD1B', 'PGSD1C']\n",
      "D18 : ['PGSD1D', 'PGSD1E', 'PGSD1F']\n",
      "D19 : ['PGSD1A']\n",
      "D20 : ['PGSD1A', 'PGSD1B', 'PGSD1C', 'PGSD1D', 'PGSD1E', 'PGSD1F']\n",
      "D21 : ['PGSD1A', 'PGSD1B', 'PGSD1C', 'PGSD1D']\n",
      "D22 : ['RPL1C', 'RPL1B', 'RPL1A', 'TEKKOM1A', 'TEKKOM1B', 'TEKKOM1C']\n",
      "D23 : ['RPL1C', 'RPL1B', 'RPL1A']\n",
      "D24 : ['PGPAUD1A', 'PGPAUD1B', 'PGPAUD1C']\n",
      "D25 : ['Multimedia1B', 'Multimedia1A']\n",
      "D26 : ['PGPAUD1A', 'PGPAUD1B', 'PGPAUD1C']\n",
      "D27 : ['RPL1C', 'RPL1B', 'RPL1A']\n",
      "D28 : ['PGPAUD1A', 'PGPAUD1B', 'PGPAUD1C']\n",
      "D29 : ['PGPAUD1A', 'PGPAUD1B', 'PGPAUD1C']\n",
      "D30 : ['TEKKOM1A', 'RPL1A', 'Multimedia1A', 'PGPAUD1A']\n",
      "D31 : ['PGSD1A', 'PGSD1B', 'PGSD1C', 'PGSD1D', 'PGSD1E', 'PGSD1F']\n",
      "D32 : ['PGPAUD1A', 'PGPAUD1B', 'PGPAUD1C', 'TEKKOM1A', 'TEKKOM1B', 'TEKKOM1C']\n",
      "D33 : ['Multimedia1B', 'Multimedia1A', 'PGPAUD1A', 'PGPAUD1B', 'PGPAUD1C', 'PGSD1E', 'PGSD1F', 'RPL1C', 'RPL1B', 'RPL1A', 'TEKKOM1A', 'TEKKOM1B', 'TEKKOM1C']\n",
      "D34 : ['RPL1C', 'RPL1B', 'RPL1A']\n",
      "D35 : ['TEKKOM1A', 'Multimedia1A']\n"
     ]
    }
   ],
   "source": [
    "for data in pasangan:\n",
    "    print(data[0] + \" : \" + str(data[1]))"
   ]
  },
  {
   "cell_type": "markdown",
   "metadata": {},
   "source": [
    "---\n",
    "#### Mencari hubungan ketetanggaan antar dosen\n",
    "- Cara mencari hubungan ketetanggaan sesuai dengan latihan graf yang pernah dikerjakan\n",
    "- Dosen 1 dan dosen 2 dikatakan bertetangga apabila setidaknya mengajar di 1 kelas mahasiswa yang sama"
   ]
  },
  {
   "cell_type": "code",
   "execution_count": 28,
   "metadata": {},
   "outputs": [],
   "source": [
    "banyakPasangan = len(pasangan)\n",
    "\n",
    "# Cek 2 pasangan satu persatu\n",
    "for i in range(banyakPasangan):  \n",
    "    kodeDosen_1 = pasangan[i][0] \n",
    "\n",
    "    for j in range(banyakPasangan): \n",
    "        kodeDosen_2 = pasangan[j][0]\n",
    "\n",
    "        if kodeDosen_1 is kodeDosen_2: # bila kode dosen sama, maka biarkan nilai tetap 0\n",
    "            break\n",
    "        \n",
    "        for kelas1 in pasangan[i][1]: # Cek setiap kelas yang diajar dosen 1\n",
    "            kumpulanKelas2 = pasangan[j][1]\n",
    "            \n",
    "            # Bila setidaknya ada 1 kelas yang diajar dosen 1 ada di kumpulan kelas yang diajarkan oleh dosen 2,\n",
    "            # Maka ubah nilai ketetanggaannya menjadi 1\n",
    "            if kelas1 in kumpulanKelas2: \n",
    "                matriks_adj.loc[kodeDosen_1, kodeDosen_2] = 1\n",
    "                matriks_adj.loc[kodeDosen_2, kodeDosen_1] = 1\n",
    "                break\n",
    "\n",
    "        "
   ]
  },
  {
   "cell_type": "code",
   "execution_count": 29,
   "metadata": {},
   "outputs": [
    {
     "name": "stdout",
     "output_type": "stream",
     "text": [
      "     D1  D2  D3  D4  D5  D6  D7  D8  D9  D10  ...  D26  D27  D28  D29  D30  \\\n",
      "D1    0   0   0   0   0   0   1   0   0    1  ...    0    0    0    0    1   \n",
      "D2    0   0   0   0   0   0   0   0   0    0  ...    0    1    0    0    1   \n",
      "D3    0   0   0   1   1   0   0   1   1    0  ...    0    0    0    0    1   \n",
      "D4    0   0   1   0   1   0   0   1   1    0  ...    0    0    0    0    1   \n",
      "D5    0   0   1   1   0   0   0   1   1    0  ...    0    0    0    0    1   \n",
      "D6    0   0   0   0   0   0   1   0   0    0  ...    1    0    1    1    1   \n",
      "D7    1   0   0   0   0   1   0   0   0    1  ...    1    0    1    1    1   \n",
      "D8    0   0   1   1   1   0   0   0   1    0  ...    0    0    0    0    1   \n",
      "D9    0   0   1   1   1   0   0   1   0    0  ...    0    0    0    0    1   \n",
      "D10   1   0   0   0   0   0   1   0   0    0  ...    0    0    0    0    1   \n",
      "D11   0   0   1   1   1   0   0   1   1    0  ...    0    0    0    0    1   \n",
      "D12   1   0   0   0   0   0   1   0   0    1  ...    0    0    0    0    1   \n",
      "D13   0   1   0   0   0   0   0   0   0    0  ...    0    1    0    0    1   \n",
      "D14   0   0   1   1   1   0   0   1   1    0  ...    0    0    0    0    1   \n",
      "D15   0   0   0   0   0   0   0   0   0    0  ...    0    0    0    0    0   \n",
      "D16   0   0   0   0   0   0   0   0   0    0  ...    0    0    0    0    0   \n",
      "D17   0   0   0   0   0   0   0   0   0    0  ...    0    0    0    0    0   \n",
      "D18   0   0   0   0   0   0   0   0   0    0  ...    0    0    0    0    0   \n",
      "D19   0   0   0   0   0   0   0   0   0    0  ...    0    0    0    0    0   \n",
      "D20   0   0   0   0   0   0   0   0   0    0  ...    0    0    0    0    0   \n",
      "D21   0   0   0   0   0   0   0   0   0    0  ...    0    0    0    0    0   \n",
      "D22   1   1   0   0   0   0   1   0   0    1  ...    0    1    0    0    1   \n",
      "D23   0   1   0   0   0   0   0   0   0    0  ...    0    1    0    0    1   \n",
      "D24   0   0   0   0   0   1   1   0   0    0  ...    1    0    1    1    1   \n",
      "D25   0   0   1   1   1   0   0   1   1    0  ...    0    0    0    0    1   \n",
      "D26   0   0   0   0   0   1   1   0   0    0  ...    0    0    1    1    1   \n",
      "D27   0   1   0   0   0   0   0   0   0    0  ...    0    0    0    0    1   \n",
      "D28   0   0   0   0   0   1   1   0   0    0  ...    1    0    0    1    1   \n",
      "D29   0   0   0   0   0   1   1   0   0    0  ...    1    0    1    0    1   \n",
      "D30   1   1   1   1   1   1   1   1   1    1  ...    1    1    1    1    0   \n",
      "D31   0   0   0   0   0   0   0   0   0    0  ...    0    0    0    0    0   \n",
      "D32   1   0   0   0   0   1   1   0   0    1  ...    1    0    1    1    1   \n",
      "D33   1   1   1   1   1   1   1   1   1    1  ...    1    1    1    1    1   \n",
      "D34   0   1   0   0   0   0   0   0   0    0  ...    0    1    0    0    1   \n",
      "D35   1   0   1   1   1   0   1   1   1    1  ...    0    0    0    0    1   \n",
      "\n",
      "     D31  D32  D33  D34  D35  \n",
      "D1     0    1    1    0    1  \n",
      "D2     0    0    1    1    0  \n",
      "D3     0    0    1    0    1  \n",
      "D4     0    0    1    0    1  \n",
      "D5     0    0    1    0    1  \n",
      "D6     0    1    1    0    0  \n",
      "D7     0    1    1    0    1  \n",
      "D8     0    0    1    0    1  \n",
      "D9     0    0    1    0    1  \n",
      "D10    0    1    1    0    1  \n",
      "D11    1    0    1    0    1  \n",
      "D12    0    1    1    0    1  \n",
      "D13    0    0    1    1    0  \n",
      "D14    1    0    1    0    1  \n",
      "D15    1    0    1    0    0  \n",
      "D16    1    0    1    0    0  \n",
      "D17    1    0    0    0    0  \n",
      "D18    1    0    1    0    0  \n",
      "D19    1    0    0    0    0  \n",
      "D20    1    0    1    0    0  \n",
      "D21    1    0    0    0    0  \n",
      "D22    0    1    1    1    1  \n",
      "D23    0    0    1    1    0  \n",
      "D24    0    1    1    0    0  \n",
      "D25    0    0    1    0    1  \n",
      "D26    0    1    1    0    0  \n",
      "D27    0    0    1    1    0  \n",
      "D28    0    1    1    0    0  \n",
      "D29    0    1    1    0    0  \n",
      "D30    0    1    1    1    1  \n",
      "D31    0    0    1    0    0  \n",
      "D32    0    0    1    0    1  \n",
      "D33    1    1    0    1    1  \n",
      "D34    0    0    1    0    0  \n",
      "D35    0    1    1    0    0  \n",
      "\n",
      "[35 rows x 35 columns]\n"
     ]
    }
   ],
   "source": [
    "print(matriks_adj)"
   ]
  },
  {
   "cell_type": "code",
   "execution_count": 30,
   "metadata": {},
   "outputs": [],
   "source": [
    "# Save data dalam bentuk excel\n",
    "matriks_adj.to_excel(r'C:\\Avin Folder EX\\S1\\Matematika Diskrit\\Proyek Akhir\\Program\\05_matriks.xlsx')"
   ]
  }
 ],
 "metadata": {
  "kernelspec": {
   "display_name": "Python 3",
   "language": "python",
   "name": "python3"
  },
  "language_info": {
   "codemirror_mode": {
    "name": "ipython",
    "version": 3
   },
   "file_extension": ".py",
   "mimetype": "text/x-python",
   "name": "python",
   "nbconvert_exporter": "python",
   "pygments_lexer": "ipython3",
   "version": "3.13.0"
  }
 },
 "nbformat": 4,
 "nbformat_minor": 2
}
