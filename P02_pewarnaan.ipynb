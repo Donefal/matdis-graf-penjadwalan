{
 "cells": [
  {
   "cell_type": "code",
   "execution_count": 40,
   "metadata": {},
   "outputs": [],
   "source": [
    "import pandas as pd"
   ]
  },
  {
   "cell_type": "code",
   "execution_count": 41,
   "metadata": {},
   "outputs": [],
   "source": [
    "matriks = pd.read_excel('05_matriks.xlsx')"
   ]
  },
  {
   "cell_type": "markdown",
   "metadata": {},
   "source": [
    "### Mencari Derajat & tetangga Per Node"
   ]
  },
  {
   "cell_type": "code",
   "execution_count": 42,
   "metadata": {},
   "outputs": [],
   "source": [
    "derajat = [] # Derajat dicatat dalam bentuk array 2D [kode, derajatnya] agar bisa di urutkan\n",
    "tetangga = {} # Tetangga dicatat dalam bentuk dict agar mudah digunakan\n",
    "\n",
    "i = 0\n",
    "for kode in matriks:\n",
    "\n",
    "    # Mengabaikan kolom index yang berisi kode-kode dosen\n",
    "    if i == 0:\n",
    "        i = 1\n",
    "        continue    \n",
    "\n",
    "    # Menginisasi array pada dict tetangga pada key kode iterasi ini\n",
    "    if kode not in tetangga:\n",
    "        tetangga[kode] = [] # Tetangga dari kode dicatat dalam bentuk array\n",
    "\n",
    "    # Mengecek setiap value pada kolom (kode) --> Apabila 1 maka ambil indexnya (kode tetangganya)\n",
    "    for j in range(len(matriks[kode])):\n",
    "        if matriks.loc[j, kode] == 1:\n",
    "            tetangga[kode].append(matriks.loc[j, 'Unnamed: 0']) # Unnamed: 0 merupakan nama kolom indexnya\n",
    "    \n",
    "\n",
    "    # Menjumlahkan banyaknya value 1 untuk mencari derajat\n",
    "    derajat.append([kode, int(matriks[kode].sum())])\n",
    "    "
   ]
  },
  {
   "cell_type": "code",
   "execution_count": 43,
   "metadata": {},
   "outputs": [
    {
     "name": "stdout",
     "output_type": "stream",
     "text": [
      "[['D1', 8], ['D2', 7], ['D3', 10], ['D4', 10], ['D5', 10], ['D6', 8], ['D7', 13], ['D8', 10], ['D9', 10], ['D10', 8], ['D11', 17], ['D12', 8], ['D13', 7], ['D14', 17], ['D15', 6], ['D16', 10], ['D17', 7], ['D18', 8], ['D19', 6], ['D20', 10], ['D21', 8], ['D22', 13], ['D23', 7], ['D24', 8], ['D25', 10], ['D26', 8], ['D27', 7], ['D28', 8], ['D29', 8], ['D30', 26], ['D31', 10], ['D32', 13], ['D33', 31], ['D34', 7], ['D35', 16]]\n"
     ]
    }
   ],
   "source": [
    "# Derajat setiap kode dosen\n",
    "print(derajat)"
   ]
  },
  {
   "cell_type": "code",
   "execution_count": 44,
   "metadata": {},
   "outputs": [
    {
     "name": "stdout",
     "output_type": "stream",
     "text": [
      "D1 : ['D7', 'D10', 'D12', 'D22', 'D30', 'D32', 'D33', 'D35']\n",
      "D2 : ['D13', 'D22', 'D23', 'D27', 'D30', 'D33', 'D34']\n",
      "D3 : ['D4', 'D5', 'D8', 'D9', 'D11', 'D14', 'D25', 'D30', 'D33', 'D35']\n",
      "D4 : ['D3', 'D5', 'D8', 'D9', 'D11', 'D14', 'D25', 'D30', 'D33', 'D35']\n",
      "D5 : ['D3', 'D4', 'D8', 'D9', 'D11', 'D14', 'D25', 'D30', 'D33', 'D35']\n",
      "D6 : ['D7', 'D24', 'D26', 'D28', 'D29', 'D30', 'D32', 'D33']\n",
      "D7 : ['D1', 'D6', 'D10', 'D12', 'D22', 'D24', 'D26', 'D28', 'D29', 'D30', 'D32', 'D33', 'D35']\n",
      "D8 : ['D3', 'D4', 'D5', 'D9', 'D11', 'D14', 'D25', 'D30', 'D33', 'D35']\n",
      "D9 : ['D3', 'D4', 'D5', 'D8', 'D11', 'D14', 'D25', 'D30', 'D33', 'D35']\n",
      "D10 : ['D1', 'D7', 'D12', 'D22', 'D30', 'D32', 'D33', 'D35']\n",
      "D11 : ['D3', 'D4', 'D5', 'D8', 'D9', 'D14', 'D16', 'D17', 'D18', 'D19', 'D20', 'D21', 'D25', 'D30', 'D31', 'D33', 'D35']\n",
      "D12 : ['D1', 'D7', 'D10', 'D22', 'D30', 'D32', 'D33', 'D35']\n",
      "D13 : ['D2', 'D22', 'D23', 'D27', 'D30', 'D33', 'D34']\n",
      "D14 : ['D3', 'D4', 'D5', 'D8', 'D9', 'D11', 'D15', 'D16', 'D17', 'D18', 'D20', 'D21', 'D25', 'D30', 'D31', 'D33', 'D35']\n",
      "D15 : ['D14', 'D16', 'D18', 'D20', 'D31', 'D33']\n",
      "D16 : ['D11', 'D14', 'D15', 'D17', 'D18', 'D19', 'D20', 'D21', 'D31', 'D33']\n",
      "D17 : ['D11', 'D14', 'D16', 'D19', 'D20', 'D21', 'D31']\n",
      "D18 : ['D11', 'D14', 'D15', 'D16', 'D20', 'D21', 'D31', 'D33']\n",
      "D19 : ['D11', 'D16', 'D17', 'D20', 'D21', 'D31']\n",
      "D20 : ['D11', 'D14', 'D15', 'D16', 'D17', 'D18', 'D19', 'D21', 'D31', 'D33']\n",
      "D21 : ['D11', 'D14', 'D16', 'D17', 'D18', 'D19', 'D20', 'D31']\n",
      "D22 : ['D1', 'D2', 'D7', 'D10', 'D12', 'D13', 'D23', 'D27', 'D30', 'D32', 'D33', 'D34', 'D35']\n",
      "D23 : ['D2', 'D13', 'D22', 'D27', 'D30', 'D33', 'D34']\n",
      "D24 : ['D6', 'D7', 'D26', 'D28', 'D29', 'D30', 'D32', 'D33']\n",
      "D25 : ['D3', 'D4', 'D5', 'D8', 'D9', 'D11', 'D14', 'D30', 'D33', 'D35']\n",
      "D26 : ['D6', 'D7', 'D24', 'D28', 'D29', 'D30', 'D32', 'D33']\n",
      "D27 : ['D2', 'D13', 'D22', 'D23', 'D30', 'D33', 'D34']\n",
      "D28 : ['D6', 'D7', 'D24', 'D26', 'D29', 'D30', 'D32', 'D33']\n",
      "D29 : ['D6', 'D7', 'D24', 'D26', 'D28', 'D30', 'D32', 'D33']\n",
      "D30 : ['D1', 'D2', 'D3', 'D4', 'D5', 'D6', 'D7', 'D8', 'D9', 'D10', 'D11', 'D12', 'D13', 'D14', 'D22', 'D23', 'D24', 'D25', 'D26', 'D27', 'D28', 'D29', 'D32', 'D33', 'D34', 'D35']\n",
      "D31 : ['D11', 'D14', 'D15', 'D16', 'D17', 'D18', 'D19', 'D20', 'D21', 'D33']\n",
      "D32 : ['D1', 'D6', 'D7', 'D10', 'D12', 'D22', 'D24', 'D26', 'D28', 'D29', 'D30', 'D33', 'D35']\n",
      "D33 : ['D1', 'D2', 'D3', 'D4', 'D5', 'D6', 'D7', 'D8', 'D9', 'D10', 'D11', 'D12', 'D13', 'D14', 'D15', 'D16', 'D18', 'D20', 'D22', 'D23', 'D24', 'D25', 'D26', 'D27', 'D28', 'D29', 'D30', 'D31', 'D32', 'D34', 'D35']\n",
      "D34 : ['D2', 'D13', 'D22', 'D23', 'D27', 'D30', 'D33']\n",
      "D35 : ['D1', 'D3', 'D4', 'D5', 'D7', 'D8', 'D9', 'D10', 'D11', 'D12', 'D14', 'D22', 'D25', 'D30', 'D32', 'D33']\n"
     ]
    }
   ],
   "source": [
    "# Tetangga setiap kode dosen\n",
    "for value in tetangga:\n",
    "    print(value + \" : \" + str(tetangga[value]))"
   ]
  },
  {
   "cell_type": "markdown",
   "metadata": {},
   "source": [
    "### Welsh Powell Algorithm"
   ]
  },
  {
   "cell_type": "code",
   "execution_count": 45,
   "metadata": {},
   "outputs": [
    {
     "name": "stdout",
     "output_type": "stream",
     "text": [
      "[['D33', 31], ['D30', 26], ['D11', 17], ['D14', 17], ['D35', 16], ['D7', 13], ['D22', 13], ['D32', 13], ['D3', 10], ['D4', 10], ['D5', 10], ['D8', 10], ['D9', 10], ['D16', 10], ['D20', 10], ['D25', 10], ['D31', 10], ['D1', 8], ['D6', 8], ['D10', 8], ['D12', 8], ['D18', 8], ['D21', 8], ['D24', 8], ['D26', 8], ['D28', 8], ['D29', 8], ['D2', 7], ['D13', 7], ['D17', 7], ['D23', 7], ['D27', 7], ['D34', 7], ['D15', 6], ['D19', 6]]\n"
     ]
    }
   ],
   "source": [
    "# Mengurutkan derajat dari yang terbesar sampai yang terkecil\n",
    "\n",
    "derajatSorted = sorted(derajat, key=lambda x: x[1], reverse=True)\n",
    "print(derajatSorted)"
   ]
  },
  {
   "cell_type": "code",
   "execution_count": 46,
   "metadata": {},
   "outputs": [],
   "source": [
    "warna = {} # Warna dicatat dalam bentuk dict yang setiap key berisi array kode dosen [Warna : [Kumpulan kode]]\n",
    "sudahAdaWarna = set() # Kode dosen yang sudah diwarnai dicatat dalam set. Set digunakan agar tidak ada data duplikat\n",
    "nodeTetangga = set() # Kode tetangga dari kode yang sedang diwarnai akan dicatat, agar tak memiliki warna yang sama\n",
    "kodeWarna = 1 # Kode warna mula-mula\n",
    "\n",
    "# Mengecek setiap node di kumpulan derajat yang sudah di urutkan\n",
    "for node in derajatSorted:\n",
    "    namaNode = node[0]\n",
    "   \n",
    "    # Cek apakah node sudah ada warna. Jika iya, maka lewati\n",
    "    if namaNode in sudahAdaWarna:\n",
    "        continue\n",
    "\n",
    "    if warna.get(kodeWarna) == None:\n",
    "        warna[kodeWarna] = []\n",
    "\n",
    "    warna[kodeWarna].append(namaNode)   \n",
    "    sudahAdaWarna.add(namaNode)         \n",
    "    nodeTetangga = set(tetangga[namaNode])\n",
    "\n",
    "    # Cek node lain selain node saat ini\n",
    "    for nodeLain in derajatSorted:\n",
    "        namaNodeLain = nodeLain[0]\n",
    "        \n",
    "        # Kondisi node lain tidak valid: \n",
    "        if namaNodeLain == namaNode: \n",
    "            continue\n",
    "        if namaNodeLain in sudahAdaWarna: \n",
    "            continue\n",
    "        if namaNodeLain in nodeTetangga:\n",
    "            continue\n",
    "\n",
    "        warna[kodeWarna].append(namaNodeLain)           \n",
    "        sudahAdaWarna.add(namaNodeLain)                 \n",
    "        nodeTetangga.update(tetangga[namaNodeLain])     \n",
    "\n",
    "    # Ganti kode warna\n",
    "    kodeWarna += 1\n"
   ]
  },
  {
   "cell_type": "code",
   "execution_count": 47,
   "metadata": {},
   "outputs": [
    {
     "name": "stdout",
     "output_type": "stream",
     "text": [
      "1 : ['D33', 'D21']\n",
      "2 : ['D30', 'D16']\n",
      "3 : ['D11', 'D7', 'D2', 'D15']\n",
      "4 : ['D14', 'D22', 'D6', 'D19']\n",
      "5 : ['D35', 'D20', 'D24', 'D13']\n",
      "6 : ['D32', 'D3', 'D31', 'D23']\n",
      "7 : ['D4', 'D1', 'D18', 'D26', 'D17', 'D27']\n",
      "8 : ['D5', 'D10', 'D28', 'D34']\n",
      "9 : ['D8', 'D12', 'D29']\n",
      "10 : ['D9']\n",
      "11 : ['D25']\n"
     ]
    }
   ],
   "source": [
    "# Hasil akhir kode warna\n",
    "for values in warna:\n",
    "    print(str(values) + \" : \" + str(warna[values]))"
   ]
  },
  {
   "cell_type": "markdown",
   "metadata": {},
   "source": [
    "---\n",
    "### Konversi kode kembali ke nama dosen"
   ]
  },
  {
   "cell_type": "code",
   "execution_count": 48,
   "metadata": {},
   "outputs": [
    {
     "name": "stdout",
     "output_type": "stream",
     "text": [
      "                                                 Dosen  \\\n",
      "0       Devi Aprianti Rimadhani Agustini, S.Si., M.Si.   \n",
      "1       Devi Aprianti Rimadhani Agustini, S.Si., M.Si.   \n",
      "2       Devi Aprianti Rimadhani Agustini, S.Si., M.Si.   \n",
      "3                          Dian Anggraini, S.ST., M.T.   \n",
      "4                          Dian Anggraini, S.ST., M.T.   \n",
      "..                                                 ...   \n",
      "127                       Yulia Retnowati, S.Pd., M.T.   \n",
      "128                       Yulia Retnowati, S.Pd., M.T.   \n",
      "129                       Yulia Retnowati, S.Pd., M.T.   \n",
      "130  Prof. Dr. Florentina Maria Titin Supriyanti, M...   \n",
      "131  Prof. Dr. Florentina Maria Titin Supriyanti, M...   \n",
      "\n",
      "                                           Mata Kuliah       Prodi Kelas Kode  \n",
      "0                           TR102 - Matematika Diskrit      TEKKOM    1A   D1  \n",
      "1                           TR102 - Matematika Diskrit      TEKKOM    1B   D1  \n",
      "2                           TR102 - Matematika Diskrit      TEKKOM    1C   D1  \n",
      "3           RL116 - Pengantar Rekayasa Perangkat Lunak         RPL    1C   D2  \n",
      "4           RL116 - Pengantar Rekayasa Perangkat Lunak         RPL    1B   D2  \n",
      "..                                                 ...         ...   ...  ...  \n",
      "127  RL115 - Literasi Teknologi Informasi dan Komun...         RPL    1C  D34  \n",
      "128  RL115 - Literasi Teknologi Informasi dan Komun...         RPL    1B  D34  \n",
      "129  RL115 - Literasi Teknologi Informasi dan Komun...         RPL    1A  D34  \n",
      "130                   KU102 - Pendidikan Agama Katolik      TEKKOM    1A  D35  \n",
      "131                   KU102 - Pendidikan Agama Katolik  Multimedia    1A  D35  \n",
      "\n",
      "[132 rows x 5 columns]\n"
     ]
    }
   ],
   "source": [
    "data = pd.read_excel('04_data_clean.xlsx')\n",
    "print(data)"
   ]
  },
  {
   "cell_type": "code",
   "execution_count": 49,
   "metadata": {},
   "outputs": [
    {
     "name": "stdout",
     "output_type": "stream",
     "text": [
      "{'D1': 'Devi Aprianti Rimadhani Agustini, S.Si., M.Si.', 'D2': 'Dian Anggraini, S.ST., M.T.', 'D3': '(I) Dian Rinjani, S.Pd., M.Ds.', 'D4': '(N) Dian Rinjani, S.Pd., M.Ds.', 'D5': 'Dr. Agus Mulyana, M.Pd.', 'D6': 'Dr. Ai Sutini, M.Pd.', 'D7': 'Dr. Arif Hidayat, S.Pd.I., M.Pd.I.', 'D8': 'Dr. Asep Rudi Nurjaman, M.Pd.I.', 'D9': 'Dr. Cucu Sutianah, M.Pd.', 'D10': 'Dr. Dede Trie Kurniawan, S.Si., M.Pd.', 'D11': 'Dr. Dinie Anggraini Dewi, M.Pd.', 'D12': 'Dr. Eng. Munawir, S.Kom., M.T.', 'D13': 'Dr. Jenuri, S.Pd., M.Ag.', 'D14': 'Dr. Kurniawati, M.Pd.', 'D15': 'Dr. Muh. Husen Arifin, S.E., M.Pd.', 'D16': 'Dr. Rendi Restiana Sukardi, M.Pd.', 'D17': 'Dr. Tita Mulyati, M.Pd.', 'D18': 'Dr. Yeni Yuniarti, M.Pd.', 'D19': 'Dr. Yunus Abidin, M.Pd.', 'D20': 'Dr. Yusuf Tri Herlambang, M.Pd.', 'D21': 'Dra. Tin Rustini, M.Pd.', 'D22': 'Fully Rakhmayanti, M.Pd.', 'D23': 'Indira Syawanodya, M.Kom.', 'D24': 'Moh. Helmi Ismail, M.Pd.', 'D25': 'Nurhidayatulloh, S.Pd., M.T.', 'D26': 'Prof. Dr. Leli Halimah, M.Pd.', 'D27': 'Raditya Muhammad, M.T.', 'D28': '(B) Ririn Despriliani, S.Pd., M.Si.', 'D29': '(A) Ririn Despriliani, S.Pd., M.Si.', 'D30': 'Suka Prayanta Pendia, S.Pd., M.P.Fis.', 'D31': 'Triana Lestari, S.Psi., M.Pd.', 'D32': 'Winti Ananthia, S.Pd., M.Ed.', 'D33': 'Yayang Furi Purnamasari, M.Pd. ', 'D34': 'Yulia Retnowati, S.Pd., M.T.', 'D35': 'Prof. Dr. Florentina Maria Titin Supriyanti, M.Si.'}\n"
     ]
    }
   ],
   "source": [
    "# Mengambil kembali pasangan kode dan dosen dari dataframe\n",
    "kodeDosen = {}\n",
    "\n",
    "kodeUnik = data[\"Kode\"].unique()\n",
    "dosenUnik = data[\"Dosen\"].unique()\n",
    "\n",
    "banyakDosen = len(data[\"Dosen\"].unique())\n",
    "for i in range(banyakDosen):\n",
    "    kodeDosen[kodeUnik[i]] = dosenUnik[i]\n",
    "\n",
    "print(kodeDosen)"
   ]
  },
  {
   "cell_type": "code",
   "execution_count": 50,
   "metadata": {},
   "outputs": [
    {
     "name": "stdout",
     "output_type": "stream",
     "text": [
      "{1: ['Yayang Furi Purnamasari, M.Pd. ', 'Dra. Tin Rustini, M.Pd.'], 2: ['Suka Prayanta Pendia, S.Pd., M.P.Fis.', 'Dr. Rendi Restiana Sukardi, M.Pd.'], 3: ['Dr. Dinie Anggraini Dewi, M.Pd.', 'Dr. Arif Hidayat, S.Pd.I., M.Pd.I.', 'Dian Anggraini, S.ST., M.T.', 'Dr. Muh. Husen Arifin, S.E., M.Pd.'], 4: ['Dr. Kurniawati, M.Pd.', 'Fully Rakhmayanti, M.Pd.', 'Dr. Ai Sutini, M.Pd.', 'Dr. Yunus Abidin, M.Pd.'], 5: ['Prof. Dr. Florentina Maria Titin Supriyanti, M.Si.', 'Dr. Yusuf Tri Herlambang, M.Pd.', 'Moh. Helmi Ismail, M.Pd.', 'Dr. Jenuri, S.Pd., M.Ag.'], 6: ['Winti Ananthia, S.Pd., M.Ed.', '(I) Dian Rinjani, S.Pd., M.Ds.', 'Triana Lestari, S.Psi., M.Pd.', 'Indira Syawanodya, M.Kom.'], 7: ['(N) Dian Rinjani, S.Pd., M.Ds.', 'Devi Aprianti Rimadhani Agustini, S.Si., M.Si.', 'Dr. Yeni Yuniarti, M.Pd.', 'Prof. Dr. Leli Halimah, M.Pd.', 'Dr. Tita Mulyati, M.Pd.', 'Raditya Muhammad, M.T.'], 8: ['Dr. Agus Mulyana, M.Pd.', 'Dr. Dede Trie Kurniawan, S.Si., M.Pd.', '(B) Ririn Despriliani, S.Pd., M.Si.', 'Yulia Retnowati, S.Pd., M.T.'], 9: ['Dr. Asep Rudi Nurjaman, M.Pd.I.', 'Dr. Eng. Munawir, S.Kom., M.T.', '(A) Ririn Despriliani, S.Pd., M.Si.'], 10: ['Dr. Cucu Sutianah, M.Pd.'], 11: ['Nurhidayatulloh, S.Pd., M.T.']}\n"
     ]
    }
   ],
   "source": [
    "# Mengubah kode dosen menjadi nama dosen dalam bentuk dict [Kode : [Nama dosen]]\n",
    "dataAkhir = {}\n",
    "\n",
    "for i in warna:\n",
    "    dataAkhir[i] = []\n",
    "\n",
    "    for kode in warna[i]:\n",
    "        dataAkhir[i].append(kodeDosen[kode])\n",
    "\n",
    "print(dataAkhir)"
   ]
  },
  {
   "cell_type": "code",
   "execution_count": 51,
   "metadata": {},
   "outputs": [
    {
     "name": "stdout",
     "output_type": "stream",
     "text": [
      "[(1, 'Yayang Furi Purnamasari, M.Pd. , Dra. Tin Rustini, M.Pd.'), (2, 'Suka Prayanta Pendia, S.Pd., M.P.Fis., Dr. Rendi Restiana Sukardi, M.Pd.'), (3, 'Dr. Dinie Anggraini Dewi, M.Pd., Dr. Arif Hidayat, S.Pd.I., M.Pd.I., Dian Anggraini, S.ST., M.T., Dr. Muh. Husen Arifin, S.E., M.Pd.'), (4, 'Dr. Kurniawati, M.Pd., Fully Rakhmayanti, M.Pd., Dr. Ai Sutini, M.Pd., Dr. Yunus Abidin, M.Pd.'), (5, 'Prof. Dr. Florentina Maria Titin Supriyanti, M.Si., Dr. Yusuf Tri Herlambang, M.Pd., Moh. Helmi Ismail, M.Pd., Dr. Jenuri, S.Pd., M.Ag.'), (6, 'Winti Ananthia, S.Pd., M.Ed., (I) Dian Rinjani, S.Pd., M.Ds., Triana Lestari, S.Psi., M.Pd., Indira Syawanodya, M.Kom.'), (7, '(N) Dian Rinjani, S.Pd., M.Ds., Devi Aprianti Rimadhani Agustini, S.Si., M.Si., Dr. Yeni Yuniarti, M.Pd., Prof. Dr. Leli Halimah, M.Pd., Dr. Tita Mulyati, M.Pd., Raditya Muhammad, M.T.'), (8, 'Dr. Agus Mulyana, M.Pd., Dr. Dede Trie Kurniawan, S.Si., M.Pd., (B) Ririn Despriliani, S.Pd., M.Si., Yulia Retnowati, S.Pd., M.T.'), (9, 'Dr. Asep Rudi Nurjaman, M.Pd.I., Dr. Eng. Munawir, S.Kom., M.T., (A) Ririn Despriliani, S.Pd., M.Si.'), (10, 'Dr. Cucu Sutianah, M.Pd.'), (11, 'Nurhidayatulloh, S.Pd., M.T.')]\n"
     ]
    }
   ],
   "source": [
    "#Mengubah bentuk dari dict ke array agar bisa diubah menjadi dataframe\n",
    "dataAkhir_join = [(key, ', '.join(value)) for key, value in dataAkhir.items()]\n",
    "\n",
    "print(dataAkhir_join)"
   ]
  },
  {
   "cell_type": "code",
   "execution_count": 52,
   "metadata": {},
   "outputs": [
    {
     "name": "stdout",
     "output_type": "stream",
     "text": [
      "    Kode Warna                                               Nama\n",
      "0            1  Yayang Furi Purnamasari, M.Pd. , Dra. Tin Rust...\n",
      "1            2  Suka Prayanta Pendia, S.Pd., M.P.Fis., Dr. Ren...\n",
      "2            3  Dr. Dinie Anggraini Dewi, M.Pd., Dr. Arif Hida...\n",
      "3            4  Dr. Kurniawati, M.Pd., Fully Rakhmayanti, M.Pd...\n",
      "4            5  Prof. Dr. Florentina Maria Titin Supriyanti, M...\n",
      "5            6  Winti Ananthia, S.Pd., M.Ed., (I) Dian Rinjani...\n",
      "6            7  (N) Dian Rinjani, S.Pd., M.Ds., Devi Aprianti ...\n",
      "7            8  Dr. Agus Mulyana, M.Pd., Dr. Dede Trie Kurniaw...\n",
      "8            9  Dr. Asep Rudi Nurjaman, M.Pd.I., Dr. Eng. Muna...\n",
      "9           10                           Dr. Cucu Sutianah, M.Pd.\n",
      "10          11                       Nurhidayatulloh, S.Pd., M.T.\n"
     ]
    }
   ],
   "source": [
    "# Mengubah data hasil menjadi dataframe\n",
    "tabelAkhir = pd.DataFrame(dataAkhir_join, columns=['Kode Warna', 'Nama'])\n",
    "\n",
    "print(tabelAkhir)"
   ]
  },
  {
   "cell_type": "code",
   "execution_count": 53,
   "metadata": {},
   "outputs": [],
   "source": [
    "tabelAkhir.to_excel(r'C:\\Avin Folder EX\\S1\\Matematika Diskrit\\Proyek Akhir\\Program\\06_hasilAkhir.xlsx', index=False)"
   ]
  }
 ],
 "metadata": {
  "kernelspec": {
   "display_name": "Python 3",
   "language": "python",
   "name": "python3"
  },
  "language_info": {
   "codemirror_mode": {
    "name": "ipython",
    "version": 3
   },
   "file_extension": ".py",
   "mimetype": "text/x-python",
   "name": "python",
   "nbconvert_exporter": "python",
   "pygments_lexer": "ipython3",
   "version": "3.13.0"
  }
 },
 "nbformat": 4,
 "nbformat_minor": 2
}
